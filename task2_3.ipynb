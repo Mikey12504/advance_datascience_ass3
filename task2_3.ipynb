{
 "cells": [
  {
   "cell_type": "markdown",
   "metadata": {},
   "source": [
    "# Assignment 2: Milestone I Natural Language Processing\n",
    "## Task 2&3\n",
    "#### Student Name: Nguyen Ba Duc Manh\n",
    "#### Student ID: s3978506\n",
    "\n",
    "\n",
    "Environment: Python 3 and Jupyter notebook\n",
    "\n",
    "Libraries used: please include all the libraries you used in your assignment, e.g.,:\n",
    "* pandas\n",
    "* re\n",
    "* numpy\n",
    "\n",
    "## Introduction\n",
    "You should give a brief information of this assessment task here.\n",
    "\n",
    "<span style=\"color: red\"> Note that this is a sample notebook only. You will need to fill in the proper markdown and code blocks. You might also want to make necessary changes to the structure to meet your own needs. Note also that any generic comments written in this notebook are to be removed and replace with your own words.</span>"
   ]
  },
  {
   "cell_type": "markdown",
   "metadata": {},
   "source": [
    "## Importing libraries "
   ]
  },
  {
   "cell_type": "code",
   "execution_count": 1,
   "metadata": {},
   "outputs": [],
   "source": [
    "# Code to import libraries as you need in this assessment, e.g.,\n",
    "import pandas as pd\n",
    "import re   \n",
    "import numpy as np\n",
    "from nltk.probability import *\n",
    "from nltk.tokenize import RegexpTokenizer\n",
    "from collections import Counter\n",
    "from sklearn.feature_extraction.text import CountVectorizer, TfidfVectorizer"
   ]
  },
  {
   "cell_type": "markdown",
   "metadata": {},
   "source": [
    "## Task 2. Generating Feature Representations for Clothing Items Reviews"
   ]
  },
  {
   "cell_type": "markdown",
   "metadata": {},
   "source": [
    "...... Sections and code blocks on buidling different document feature represetations\n",
    "\n",
    "\n",
    "<span style=\"color: red\"> You might have complex notebook structure in this section, please feel free to create your own notebook structure. </span>"
   ]
  },
  {
   "cell_type": "code",
   "execution_count": 2,
   "metadata": {},
   "outputs": [],
   "source": [
    "data = pd.read_csv('assignment3.csv')"
   ]
  },
  {
   "cell_type": "code",
   "execution_count": 3,
   "metadata": {},
   "outputs": [],
   "source": [
    "# Code to perform the task...\n",
    "# Load the vocabulary dictionary from the vocab file\n",
    "def load_vocab(vocab_file):\n",
    "    vocab_dict = {}\n",
    "    with open(vocab_file, 'r') as f:\n",
    "        for line in f:\n",
    "            word, index = line.strip().split(':')\n",
    "            vocab_dict[word] = int(index)\n",
    "    return vocab_dict"
   ]
  },
  {
   "cell_type": "markdown",
   "metadata": {},
   "source": [
    "### Bag-of-words model"
   ]
  },
  {
   "cell_type": "markdown",
   "metadata": {},
   "source": [
    "Generate Sparse Count Vectors"
   ]
  },
  {
   "cell_type": "markdown",
   "metadata": {},
   "source": [
    "The `generate_count_vectors` function will try to generate the count vector matrix as well as the count vector data from the given dataframe and vocab dictionary"
   ]
  },
  {
   "cell_type": "code",
   "execution_count": 4,
   "metadata": {},
   "outputs": [],
   "source": [
    "# Generate count vectors for reviews\n",
    "def generate_count_vectors(df, vocab_dict):\n",
    "    count_vectorizer = CountVectorizer(vocabulary=vocab_dict)\n",
    "    count_vectors = count_vectorizer.fit_transform(df['Review Text'])\n",
    "    count_vectors_matrix = count_vectors.toarray()\n",
    "    \n",
    "    # Save the count vectors to a variable\n",
    "    count_vectors_data = []\n",
    "    for index, row in df.iterrows():\n",
    "        review_text = row['Review Text']\n",
    "        \n",
    "        if isinstance(review_text, str):\n",
    "            vector = count_vectorizer.transform([review_text]).toarray()[0]\n",
    "            index_freq_pairs = [f\"{vocab_dict[word]}:{int(freq)}\" \n",
    "                                for word, freq in zip(count_vectorizer.get_feature_names_out(), vector) \n",
    "                                if freq > 0]\n",
    "            count_vectors_data.append(f\"#{index},{', '.join(index_freq_pairs)}\")\n",
    "            \n",
    "    return count_vectors_matrix, count_vectors_data\n"
   ]
  },
  {
   "cell_type": "markdown",
   "metadata": {},
   "source": [
    "The function `preprocess_review(review)` processes a given review (text) and extracts words from it."
   ]
  },
  {
   "cell_type": "code",
   "execution_count": 5,
   "metadata": {},
   "outputs": [],
   "source": [
    "# Preprocess review text\n",
    "def preprocess_review(review):\n",
    "    return re.findall(r\"[a-zA-Z]+(?:[-'][a-zA-Z]+)?\", review)"
   ]
  },
  {
   "cell_type": "markdown",
   "metadata": {},
   "source": [
    "### Models based on word embeddings"
   ]
  },
  {
   "cell_type": "markdown",
   "metadata": {},
   "source": [
    "Load pre-trained model"
   ]
  },
  {
   "cell_type": "markdown",
   "metadata": {},
   "source": [
    "In this task I chose pre-train model Glove because it provides rich word embeddings that capture semantic meaning. Pre-trained GloVe embeddings are generated from massive corpora like Wikipedia, Common Crawl, or Twitter. These embeddings capture patterns of word usage, context, and relationships in a way that goes beyond what a smaller task-specific dataset might achieve. Moreover, using pre-train model help in improving model performance without requiring a huge labeled dataset for training."
   ]
  },
  {
   "cell_type": "code",
   "execution_count": 6,
   "metadata": {},
   "outputs": [],
   "source": [
    "def load_glove_model(glove_file):\n",
    "    embedding_index = {}\n",
    "    with open(glove_file, 'r', encoding='utf-8') as f:\n",
    "        for line in f:\n",
    "            values = line.split()\n",
    "            word = values[0]\n",
    "            coefs = np.asarray(values[1:], dtype='float32')\n",
    "            embedding_index[word] = coefs\n",
    "    return embedding_index"
   ]
  },
  {
   "cell_type": "markdown",
   "metadata": {},
   "source": [
    "The function `get_average_embedding` computes the average word embedding for a given review (text), based on word embeddings from a pre-trained model such as GloVe"
   ]
  },
  {
   "cell_type": "code",
   "execution_count": 7,
   "metadata": {},
   "outputs": [],
   "source": [
    "# Get average word embedding for a review\n",
    "def get_average_embedding(review, embedding_index, embedding_dim):\n",
    "    words = preprocess_review(review)\n",
    "    valid_embeddings = [embedding_index[word] for word in words if word in embedding_index]\n",
    "    if not valid_embeddings:\n",
    "        return np.zeros(embedding_dim)\n",
    "    return np.mean(valid_embeddings, axis=0)"
   ]
  },
  {
   "cell_type": "markdown",
   "metadata": {},
   "source": [
    "The function `compute_unweighted_embeddings` generates unweighted word embeddings for each review in a dataframe (df) by averaging the word embeddings for all the words in each review."
   ]
  },
  {
   "cell_type": "code",
   "execution_count": 8,
   "metadata": {},
   "outputs": [],
   "source": [
    "# Compute unweighted embeddings\n",
    "def compute_unweighted_embeddings(df, embedding_index, embedding_dim):\n",
    "    reviews = df['Review Text'].tolist()\n",
    "    unweighted_vectors = np.array([get_average_embedding(review, embedding_index, embedding_dim) for review in reviews])\n",
    "    return unweighted_vectors"
   ]
  },
  {
   "cell_type": "markdown",
   "metadata": {},
   "source": [
    "The function `get_tfidf_weighted_embedding` calculates a TF-IDF-weighted word embedding for a given piece of text (such as a review). This means that instead of just averaging word embeddings for all the words in the text, it assigns more importance (weight) to words that are more meaningful or relevant based on their TF-IDF scores.\n",
    "\n",
    "The function `compute_tfidf_weighted_embeddings` is designed to compute the TF-IDF weighted embeddings for all the reviews in the provided dataset df. It generates an embedding vector for each review, where the words in the review are weighted according to their TF-IDF scores and combined with the word embeddings from a pre-trained embedding model like GloVe."
   ]
  },
  {
   "cell_type": "code",
   "execution_count": 9,
   "metadata": {},
   "outputs": [],
   "source": [
    "# Get TF-IDF weighted GloVe embedding for a single review\n",
    "def get_tfidf_weighted_embedding(text, tfidf_vocab, idf_values, embedding_index, embedding_dim):\n",
    "    words = preprocess_review(text)  # Assuming preprocess_review is a function that cleans the text\n",
    "    valid_words = [word for word in words if word in embedding_index and word in tfidf_vocab]\n",
    "    if not valid_words:\n",
    "        return np.zeros(embedding_dim)\n",
    "\n",
    "    weighted_sum = np.zeros(embedding_dim)\n",
    "    total_weight = 0\n",
    "\n",
    "    for word in valid_words:\n",
    "        tfidf_weight = idf_values[word] if word in idf_values else 0  # Get the word's TF-IDF weight\n",
    "        weighted_sum += embedding_index[word] * tfidf_weight\n",
    "        total_weight += tfidf_weight\n",
    "\n",
    "    return weighted_sum / total_weight if total_weight > 0 else np.zeros(embedding_dim)\n",
    "\n",
    "\n",
    "# Compute TF-IDF weighted embeddings for all reviews in the dataset\n",
    "def compute_tfidf_weighted_embeddings(df, vocab_dict, embedding_index, embedding_dim):\n",
    "    tfidf_vectorizer = TfidfVectorizer(vocabulary=vocab_dict)\n",
    "    tfidf_matrix = tfidf_vectorizer.fit_transform(df['Review Text'])  # This is not needed explicitly\n",
    "    idf_values = dict(zip(tfidf_vectorizer.get_feature_names_out(), tfidf_vectorizer.idf_))\n",
    "\n",
    "    # Use the updated function with 5 parameters\n",
    "    tfidf_weighted_vectors = np.array([\n",
    "        get_tfidf_weighted_embedding(review, vocab_dict, idf_values, embedding_index, embedding_dim) \n",
    "        for review in df['Review Text']\n",
    "    ])\n",
    "\n",
    "    return tfidf_weighted_vectors"
   ]
  },
  {
   "cell_type": "markdown",
   "metadata": {},
   "source": [
    "The `embedding_dim` will be 300. This is because a 300-dimensional embedding is a sweet spot for many natural language processing (NLP) tasks. It provides enough detail to capture semantic relationships between words while not being overly computationally expensive. The 300-dimensional vectors are pre-trained on large corpora and tend to perform well in general NLP tasks without needing to be fine-tuned. I have download the `glove.6B.300d.txt` in https://nlp.stanford.edu/projects/glove/. The file `glove.6B.300d.txt` contains pre-trained word embeddings from the GloVe (Global Vectors for Word Representation) model, which was trained on 6 billion tokens (words) from Wikipedia and Gigaword."
   ]
  },
  {
   "cell_type": "code",
   "execution_count": 10,
   "metadata": {},
   "outputs": [],
   "source": [
    "# Load vocabulary and GloVe embeddings\n",
    "vocab_dict = load_vocab('vocab.txt')\n",
    "embedding_index = load_glove_model('glove.6B.300d.txt')\n",
    "embedding_dim = 300  # GloVe 300d dimension"
   ]
  },
  {
   "cell_type": "markdown",
   "metadata": {},
   "source": [
    "Run the function and store the result in variable for later usage in the task 3"
   ]
  },
  {
   "cell_type": "code",
   "execution_count": 11,
   "metadata": {},
   "outputs": [],
   "source": [
    "count_vectors_matrix, count_vectors_data = generate_count_vectors(data, vocab_dict)\n",
    "unweighted_vectors = compute_unweighted_embeddings(data, embedding_index, embedding_dim)\n",
    "tfidf_weighted_vectors = compute_tfidf_weighted_embeddings(data, vocab_dict, embedding_index, embedding_dim)"
   ]
  },
  {
   "cell_type": "markdown",
   "metadata": {},
   "source": [
    "Examine the `unweighted_vectors` and `tfidf_weighted_vectors`"
   ]
  },
  {
   "cell_type": "code",
   "execution_count": 12,
   "metadata": {},
   "outputs": [
    {
     "data": {
      "text/plain": [
       "array([[-0.14273782,  0.13759695, -0.09088767, ..., -0.18986197,\n",
       "        -0.0481755 ,  0.00677877],\n",
       "       [-0.13158679, -0.09926695, -0.07414217, ..., -0.0165159 ,\n",
       "         0.14576885,  0.00168203],\n",
       "       [-0.13957444,  0.05556858, -0.05690629, ..., -0.08415088,\n",
       "         0.11971746, -0.03509094],\n",
       "       ...,\n",
       "       [-0.12390398,  0.15553042, -0.13651736, ..., -0.21778435,\n",
       "        -0.04242745,  0.02493969],\n",
       "       [-0.16795707,  0.09608248, -0.09770373, ..., -0.17620574,\n",
       "         0.01463415,  0.07117729],\n",
       "       [-0.1528886 ,  0.03280206, -0.07616973, ..., -0.08497588,\n",
       "         0.1162571 ,  0.00795172]], dtype=float32)"
      ]
     },
     "execution_count": 12,
     "metadata": {},
     "output_type": "execute_result"
    }
   ],
   "source": [
    "unweighted_vectors"
   ]
  },
  {
   "cell_type": "code",
   "execution_count": 13,
   "metadata": {},
   "outputs": [
    {
     "data": {
      "text/plain": [
       "array([[-1.19047995e-01,  1.61546447e-01, -7.47163102e-02, ...,\n",
       "        -1.26568435e-01,  4.40693819e-02, -9.25539109e-02],\n",
       "       [-5.99010436e-02, -2.81041308e-01, -6.61469249e-02, ...,\n",
       "         1.92767391e-01,  1.93446600e-01, -7.27059777e-02],\n",
       "       [-1.26078772e-01, -3.13415823e-02, -4.79084730e-02, ...,\n",
       "         1.37133771e-01,  3.62260329e-01, -7.01892773e-02],\n",
       "       ...,\n",
       "       [-1.83143843e-01,  2.11552484e-01, -1.81578627e-01, ...,\n",
       "        -3.21155050e-02, -2.47858552e-02,  8.33778405e-02],\n",
       "       [-2.39096657e-01,  9.00187540e-02, -9.36870396e-02, ...,\n",
       "        -4.83164976e-02,  7.29603869e-02, -4.30598801e-03],\n",
       "       [-1.18658167e-01,  3.74863451e-02, -1.45828062e-04, ...,\n",
       "        -6.05075704e-02,  4.27583511e-02,  5.07922169e-02]])"
      ]
     },
     "execution_count": 13,
     "metadata": {},
     "output_type": "execute_result"
    }
   ],
   "source": [
    "tfidf_weighted_vectors"
   ]
  },
  {
   "cell_type": "markdown",
   "metadata": {},
   "source": [
    "### Saving outputs\n",
    "Save the count vector representation as per spectification.\n",
    "- count_vectors.txt"
   ]
  },
  {
   "cell_type": "code",
   "execution_count": 14,
   "metadata": {},
   "outputs": [],
   "source": [
    "# Save count vectors to the file\n",
    "with open('count_vectors.txt', 'w') as f_out:\n",
    "    for line in count_vectors_data:\n",
    "        f_out.write(line + \"\\n\")"
   ]
  },
  {
   "cell_type": "markdown",
   "metadata": {},
   "source": [
    "## Task 3. Clothing Review Classification"
   ]
  },
  {
   "cell_type": "markdown",
   "metadata": {},
   "source": [
    "...... Sections and code blocks on buidling classification models based on different document feature represetations. \n",
    "Detailed comparsions and evaluations on different models to answer each question as per specification. \n",
    "\n",
    "<span style=\"color: red\"> You might have complex notebook structure in this section, please feel free to create your own notebook structure. </span>"
   ]
  },
  {
   "cell_type": "code",
   "execution_count": 32,
   "metadata": {},
   "outputs": [],
   "source": [
    "from sklearn.linear_model import LogisticRegression\n",
    "from sklearn.model_selection import train_test_split, cross_val_score, KFold\n",
    "from sklearn.metrics import make_scorer, accuracy_score, classification_report, confusion_matrix, ConfusionMatrixDisplay\n",
    "import matplotlib.pyplot as plt\n",
    "from imblearn.over_sampling import SMOTE\n",
    "from scipy.sparse import csr_matrix\n",
    "import seaborn as sns\n",
    "from imblearn.pipeline import make_pipeline\n",
    "from scipy.sparse import hstack"
   ]
  },
  {
   "cell_type": "markdown",
   "metadata": {},
   "source": [
    "---------------------------------------------------------------"
   ]
  },
  {
   "cell_type": "markdown",
   "metadata": {},
   "source": [
    "### Q1: Language model comparisons"
   ]
  },
  {
   "cell_type": "code",
   "execution_count": 16,
   "metadata": {},
   "outputs": [
    {
     "data": {
      "text/plain": [
       "Recommended IND\n",
       "1    16087\n",
       "0     3575\n",
       "Name: count, dtype: int64"
      ]
     },
     "execution_count": 16,
     "metadata": {},
     "output_type": "execute_result"
    }
   ],
   "source": [
    "# Code to perform the task...\n",
    "data['Recommended IND'].value_counts()"
   ]
  },
  {
   "cell_type": "markdown",
   "metadata": {},
   "source": [
    "The data for Recommended IND is imbalance; therefore I will apply SMOTE for train data in order to enhance the performance of machine learning models. SMOTE generates synthetic samples for the minority class, which helps to balance the class distribution and reduce bias towards the majority class."
   ]
  },
  {
   "cell_type": "code",
   "execution_count": 17,
   "metadata": {},
   "outputs": [],
   "source": [
    "def plot_heatmap(y_true, y_pred, title):\n",
    "    cm = confusion_matrix(y_true, y_pred)\n",
    "    sns.heatmap(cm, annot=True, fmt='d', cmap='Blues', xticklabels=['Not Recommended', 'Recommended'], yticklabels=['Not Recommended', 'Recommended'])\n",
    "    plt.title(title)\n",
    "    plt.xlabel('Predicted')\n",
    "    plt.ylabel('Actual')\n",
    "    plt.show()"
   ]
  },
  {
   "cell_type": "markdown",
   "metadata": {},
   "source": [
    "In the funciton `train_evaluate_and_plot_heatmap`, I will initially split the given data in to x_train, y_train and x_test, y_test using train_test_split. Then the train data will be applied SMOTE. The model that chose in this part is `LogisticRegression`. Then I use the model to predict the x_test data. The accuracy of the model will be calculated base on the comparison between y_test and y_pred. Finally, function will print out the report as well as plot the heatmap for visualization."
   ]
  },
  {
   "cell_type": "code",
   "execution_count": 18,
   "metadata": {},
   "outputs": [],
   "source": [
    "def train_evaluate_and_plot_heatmap(X, y, model_name):\n",
    "    X_train, X_test, y_train, y_test = train_test_split(X, y, test_size=0.2, random_state=42)\n",
    "    \n",
    "    # Apply SMOTE to the training data\n",
    "    smote = SMOTE(random_state=42)\n",
    "    X_train_smote, y_train_smote = smote.fit_resample(X_train, y_train)\n",
    "\n",
    "    model = LogisticRegression(max_iter=1000)\n",
    "    model.fit(X_train_smote, y_train_smote)\n",
    "    y_pred = model.predict(X_test)\n",
    "\n",
    "    # Print the evaluation metrics\n",
    "    accuracy = accuracy_score(y_test, y_pred)\n",
    "    report = classification_report(y_test, y_pred)\n",
    "    print(f\"{model_name} Accuracy: {accuracy}\")\n",
    "    print(report)\n",
    "\n",
    "    # Plot the heatmap for the confusion matrix\n",
    "    plot_heatmap(y_test, y_pred, f\"{model_name} Confusion Matrix\")\n",
    "    \n",
    "# Train and evaluate models with each type of feature representation\n",
    "y = data['Recommended IND']"
   ]
  },
  {
   "cell_type": "markdown",
   "metadata": {},
   "source": [
    "Let see the result when train the model with basic `train_test_split`"
   ]
  },
  {
   "cell_type": "code",
   "execution_count": 19,
   "metadata": {},
   "outputs": [
    {
     "name": "stdout",
     "output_type": "stream",
     "text": [
      "Unweighted Embeddings Accuracy: 0.8232901093312993\n",
      "              precision    recall  f1-score   support\n",
      "\n",
      "           0       0.50      0.84      0.63       700\n",
      "           1       0.96      0.82      0.88      3233\n",
      "\n",
      "    accuracy                           0.82      3933\n",
      "   macro avg       0.73      0.83      0.76      3933\n",
      "weighted avg       0.88      0.82      0.84      3933\n",
      "\n"
     ]
    },
    {
     "data": {
      "image/png": "[encoded data removed]",
      "text/plain": [
       "<Figure size 640x480 with 2 Axes>"
      ]
     },
     "metadata": {},
     "output_type": "display_data"
    }
   ],
   "source": [
    "# Unweighted Embeddings with SMOTE and Heatmap\n",
    "train_evaluate_and_plot_heatmap(unweighted_vectors, y, \"Unweighted Embeddings\")"
   ]
  },
  {
   "cell_type": "code",
   "execution_count": 20,
   "metadata": {},
   "outputs": [
    {
     "name": "stdout",
     "output_type": "stream",
     "text": [
      "TF-IDF Weighted Embeddings Accuracy: 0.7752351894228324\n",
      "              precision    recall  f1-score   support\n",
      "\n",
      "           0       0.42      0.74      0.54       700\n",
      "           1       0.93      0.78      0.85      3233\n",
      "\n",
      "    accuracy                           0.78      3933\n",
      "   macro avg       0.68      0.76      0.70      3933\n",
      "weighted avg       0.84      0.78      0.80      3933\n",
      "\n"
     ]
    },
    {
     "data": {
      "image/png": "[encoded data removed]",
      "text/plain": [
       "<Figure size 640x480 with 2 Axes>"
      ]
     },
     "metadata": {},
     "output_type": "display_data"
    }
   ],
   "source": [
    "# TF-IDF Weighted Embeddings with SMOTE and Heatmap\n",
    "train_evaluate_and_plot_heatmap(tfidf_weighted_vectors, y, \"TF-IDF Weighted Embeddings\")"
   ]
  },
  {
   "cell_type": "code",
   "execution_count": 21,
   "metadata": {},
   "outputs": [
    {
     "name": "stdout",
     "output_type": "stream",
     "text": [
      "Count Vectors Accuracy: 0.8220188151538266\n",
      "              precision    recall  f1-score   support\n",
      "\n",
      "           0       0.50      0.67      0.57       700\n",
      "           1       0.92      0.86      0.89      3233\n",
      "\n",
      "    accuracy                           0.82      3933\n",
      "   macro avg       0.71      0.76      0.73      3933\n",
      "weighted avg       0.85      0.82      0.83      3933\n",
      "\n"
     ]
    },
    {
     "data": {
      "image/png": "[encoded data removed]",
      "text/plain": [
       "<Figure size 640x480 with 2 Axes>"
      ]
     },
     "metadata": {},
     "output_type": "display_data"
    }
   ],
   "source": [
    "# Count Vectors with SMOTE and Heatmap\n",
    "train_evaluate_and_plot_heatmap(count_vectors_matrix, y, \"Count Vectors\")"
   ]
  },
  {
   "cell_type": "markdown",
   "metadata": {},
   "source": [
    "Unweighted Embeddings and Count Vectors achieve the highest accuracy, both exceeding 0.82, while TF-IDF Weighted Embeddings show a more moderate accuracy of 0.77. The heat maps across all three results display a similar pattern, reflecting overly optimistic predictions for the \"Recommended\" category, likely due to imbalance in the dataset. Overall, the accuracy in all three cases remains quite high when using only the review text."
   ]
  },
  {
   "cell_type": "markdown",
   "metadata": {},
   "source": [
    "Evaluate using 5-fold Cross-validation"
   ]
  },
  {
   "cell_type": "markdown",
   "metadata": {},
   "source": [
    "In this section, I will evaluate the model using 5-fold cross-validation. SMOTE will be applied in order to oversamples the training data for the minority class within each fold."
   ]
  },
  {
   "cell_type": "code",
   "execution_count": 33,
   "metadata": {},
   "outputs": [],
   "source": [
    "# Cross-validation function\n",
    "def cross_validate_model_with_smote(X, y, folds=5):\n",
    "    # Create a pipeline with SMOTE and Logistic Regression\n",
    "    pipeline = make_pipeline(SMOTE(random_state=42), LogisticRegression(max_iter=1000))\n",
    "    \n",
    "    # Use KFold cross-validation\n",
    "    kfold = KFold(n_splits=folds, shuffle=True, random_state=42)\n",
    "    \n",
    "    # Define the accuracy scorer\n",
    "    scorer = make_scorer(accuracy_score)\n",
    "    \n",
    "    # Perform cross-validation\n",
    "    scores = cross_val_score(pipeline, X, y, cv=kfold, scoring=scorer)\n",
    "    \n",
    "    return scores"
   ]
  },
  {
   "cell_type": "code",
   "execution_count": 34,
   "metadata": {},
   "outputs": [
    {
     "name": "stdout",
     "output_type": "stream",
     "text": [
      "Unweighted Embeddings Accuracy (5-fold): 0.8170\n",
      "Fold Accuracies:  [0.82252733 0.80676329 0.81612411 0.8181587  0.8214649 ]\n"
     ]
    }
   ],
   "source": [
    "# 1. Unweighted Embeddings Cross-Validation\n",
    "unweighted_scores = cross_validate_model_with_smote(unweighted_vectors, y)\n",
    "print(f\"Unweighted Embeddings Accuracy (5-fold): {np.mean(unweighted_scores):.4f}\")\n",
    "print(\"Fold Accuracies: \", unweighted_scores)"
   ]
  },
  {
   "cell_type": "markdown",
   "metadata": {},
   "source": [
    "The small variations between the accuracies indicate that the model is relatively stable across different subsets of data"
   ]
  },
  {
   "cell_type": "code",
   "execution_count": 35,
   "metadata": {},
   "outputs": [
    {
     "name": "stdout",
     "output_type": "stream",
     "text": [
      "TF-IDF Weighted Embeddings Accuracy (5-fold): 0.7765\n",
      "Fold Accuracies:  [0.77370964 0.78032037 0.77619532 0.77466938 0.77746694]\n"
     ]
    }
   ],
   "source": [
    "# 2. TF-IDF Weighted Embeddings Cross-Validation\n",
    "tfidf_scores = cross_validate_model_with_smote(tfidf_weighted_vectors, y)\n",
    "print(f\"TF-IDF Weighted Embeddings Accuracy (5-fold): {np.mean(tfidf_scores):.4f}\")\n",
    "print(\"Fold Accuracies: \", tfidf_scores)"
   ]
  },
  {
   "cell_type": "markdown",
   "metadata": {},
   "source": [
    "The small variations between the accuracies indicate that the model is relatively stable across different subsets of data"
   ]
  },
  {
   "cell_type": "code",
   "execution_count": 36,
   "metadata": {},
   "outputs": [
    {
     "name": "stdout",
     "output_type": "stream",
     "text": [
      "Count Vectors Accuracy (5-fold): 0.8234\n",
      "Fold Accuracies:  [0.82074752 0.81795067 0.82324517 0.82502543 0.82985758]\n"
     ]
    }
   ],
   "source": [
    "# 3. Count Vectors Cross-Validation\n",
    "count_scores = cross_validate_model_with_smote(count_vectors_matrix, y)\n",
    "print(f\"Count Vectors Accuracy (5-fold): {np.mean(count_scores):.4f}\")\n",
    "print(\"Fold Accuracies: \", count_scores)"
   ]
  },
  {
   "cell_type": "markdown",
   "metadata": {},
   "source": [
    "The small variations between the accuracies indicate that the model is relatively stable across different subsets of data"
   ]
  },
  {
   "cell_type": "markdown",
   "metadata": {},
   "source": [
    "The 5-fold cross-validation demonstrates a roughly similiar result as when train model with train_test_split data. `Count vectors` outperform the other approaches with the highest average accuracy (82.34%) and the most consistent fold performances. `Unweighted embeddings` come in second with a slightly lower accuracy (81.70%), but still show stable and solid performance. `TF-IDF weighted embeddings` lag behind (77.65%) and, while consistent, do not seem to capture the text's essential patterns as effectively as the other two approaches."
   ]
  },
  {
   "cell_type": "markdown",
   "metadata": {},
   "source": [
    "---------------------------------------------------------------"
   ]
  },
  {
   "cell_type": "markdown",
   "metadata": {},
   "source": [
    "### Q2: Does more information provide higher accuracy?"
   ]
  },
  {
   "cell_type": "markdown",
   "metadata": {},
   "source": [
    "#### Only Title of the review"
   ]
  },
  {
   "cell_type": "code",
   "execution_count": 40,
   "metadata": {},
   "outputs": [],
   "source": [
    "# Generate count vectors for review title\n",
    "def generate_count_vectors_for_title(df, vocab_dict):\n",
    "    count_vectorizer = CountVectorizer(vocabulary=vocab_dict)\n",
    "    count_vectors = count_vectorizer.fit_transform(df['Title'])\n",
    "    count_vectors_matrix = count_vectors.toarray()\n",
    "    \n",
    "    return count_vectors_matrix"
   ]
  },
  {
   "cell_type": "code",
   "execution_count": 41,
   "metadata": {},
   "outputs": [],
   "source": [
    "# Compute unweighted embeddings for review title\n",
    "def compute_unweighted_embeddings_for_title(df, embedding_index, embedding_dim):\n",
    "    titles = df['Title'].tolist()\n",
    "    unweighted_vectors = np.array([get_average_embedding(title, embedding_index, embedding_dim) for title in titles])\n",
    "    return unweighted_vectors\n",
    "\n",
    "# Compute TF-IDF weighted embeddings for review title\n",
    "def compute_tfidf_weighted_embeddings_for_title(df, vocab_dict, embedding_index, embedding_dim):\n",
    "    tfidf_vectorizer = TfidfVectorizer(vocabulary=vocab_dict)\n",
    "    tfidf_matrix = tfidf_vectorizer.fit_transform(df['Title'])  # This is not needed explicitly\n",
    "    idf_values = dict(zip(tfidf_vectorizer.get_feature_names_out(), tfidf_vectorizer.idf_))\n",
    "\n",
    "    tfidf_weighted_vectors = np.array([\n",
    "        get_tfidf_weighted_embedding(title, vocab_dict, idf_values, embedding_index, embedding_dim) \n",
    "        for title in df['Title']\n",
    "    ])\n",
    "\n",
    "    return tfidf_weighted_vectors"
   ]
  },
  {
   "cell_type": "code",
   "execution_count": 42,
   "metadata": {},
   "outputs": [
    {
     "name": "stdout",
     "output_type": "stream",
     "text": [
      "Count Vectors (Title) Accuracy (5-fold): 0.7113\n",
      "Fold Accuracies:  [0.70582253 0.71319603 0.72329603 0.7110885  0.70295015]\n"
     ]
    }
   ],
   "source": [
    "# Count Vectors for Title Cross-Validation\n",
    "count_vectors_matrix_title = generate_count_vectors_for_title(data, vocab_dict)\n",
    "count_scores_title = cross_validate_model_with_smote(count_vectors_matrix_title, y)\n",
    "print(f\"Count Vectors (Title) Accuracy (5-fold): {np.mean(count_scores_title):.4f}\")\n",
    "print(\"Fold Accuracies: \", count_scores_title)"
   ]
  },
  {
   "cell_type": "markdown",
   "metadata": {},
   "source": [
    "Fold accuracies show minimal variance, indicating that this model performs consistently across different subsets of the data. The range of fold accuracies (70.30% to 72.33%) suggests reliable generalization, but the overall performance is on the lower side."
   ]
  },
  {
   "cell_type": "code",
   "execution_count": 43,
   "metadata": {},
   "outputs": [
    {
     "name": "stdout",
     "output_type": "stream",
     "text": [
      "Unweighted Embeddings (Title) Accuracy (5-fold): 0.7141\n",
      "Fold Accuracies:  [0.71167048 0.7195525  0.73143438 0.71464903 0.69328586]\n"
     ]
    }
   ],
   "source": [
    "# Unweighted Embeddings for Title Cross-Validation\n",
    "unweighted_vectors_title = compute_unweighted_embeddings_for_title(data, embedding_index, embedding_dim)\n",
    "unweighted_scores_title = cross_validate_model_with_smote(unweighted_vectors_title, y)\n",
    "print(f\"Unweighted Embeddings (Title) Accuracy (5-fold): {np.mean(unweighted_scores_title):.4f}\")\n",
    "print(\"Fold Accuracies: \", unweighted_scores_title)"
   ]
  },
  {
   "cell_type": "markdown",
   "metadata": {},
   "source": [
    "Fold accuracies are fairly consistent, except for one outlier at 69.33%. This suggests that the unweighted embeddings are generally stable but might not capture all of the nuances within the title data."
   ]
  },
  {
   "cell_type": "code",
   "execution_count": 44,
   "metadata": {},
   "outputs": [
    {
     "name": "stdout",
     "output_type": "stream",
     "text": [
      "TF-IDF Weighted Embeddings (Title) Accuracy (5-fold): 0.7425\n",
      "Fold Accuracies:  [0.78743961 0.79481312 0.78662258 0.78204476 0.56180061]\n"
     ]
    }
   ],
   "source": [
    "# TF-IDF Weighted Embeddings for Title Cross-Validation\n",
    "tfidf_weighted_vectors_title = compute_tfidf_weighted_embeddings_for_title(data, vocab_dict, embedding_index, embedding_dim)\n",
    "tfidf_scores_title = cross_validate_model_with_smote(tfidf_weighted_vectors_title, y)\n",
    "print(f\"TF-IDF Weighted Embeddings (Title) Accuracy (5-fold): {np.mean(tfidf_scores_title):.4f}\")\n",
    "print(\"Fold Accuracies: \", tfidf_scores_title)"
   ]
  },
  {
   "cell_type": "markdown",
   "metadata": {},
   "source": [
    "However, the fold accuracies reveal a high variance, with scores ranging from 78.74% down to 56.18%. This suggests that while the TF-IDF approach can perform very well on some subsets of the data, it may be unstable and particularly sensitive to the composition of the titles in certain folds."
   ]
  },
  {
   "cell_type": "markdown",
   "metadata": {},
   "source": [
    "TF-IDF weighted embeddings show the best average performance (74.25%) for title-only data, but their instability across folds is a concern. The high variance in fold accuracies highlights that the model might be over-reliant on certain title-specific features.\n",
    "Unweighted embeddings and count vectors perform similarly, both in the 71% range, with unweighted embeddings offering a slight edge. Their consistency across folds shows better generalization, though overall accuracy is lower than TF-IDF.\n",
    "The results suggest that titles alone may not provide enough information for high-performing models, and while embedding-based methods can improve accuracy, they can also introduce instability depending on the specific data subsets."
   ]
  },
  {
   "cell_type": "markdown",
   "metadata": {},
   "source": [
    "#### Combination of Title and Review Text"
   ]
  },
  {
   "cell_type": "code",
   "execution_count": 48,
   "metadata": {},
   "outputs": [],
   "source": [
    "# Concatenate title and review text for combined processing\n",
    "def combine_title_and_review(df):\n",
    "    return df['Title'].fillna('') + \" \" + df['Review Text'].fillna('')"
   ]
  },
  {
   "cell_type": "code",
   "execution_count": 49,
   "metadata": {},
   "outputs": [],
   "source": [
    "# Generate count vectors for combined title and review\n",
    "def generate_count_vectors_for_combined(df, vocab_dict):\n",
    "    combined_text = combine_title_and_review(df)\n",
    "    count_vectorizer = CountVectorizer(vocabulary=vocab_dict)\n",
    "    count_vectors = count_vectorizer.fit_transform(combined_text)\n",
    "    count_vectors_matrix = count_vectors.toarray()\n",
    "    \n",
    "    return count_vectors_matrix\n",
    "\n",
    "# Compute unweighted embeddings for combined title and review\n",
    "def compute_unweighted_embeddings_for_combined(df, embedding_index, embedding_dim):\n",
    "    combined_text = combine_title_and_review(df)\n",
    "    unweighted_vectors = np.array([get_average_embedding(review, embedding_index, embedding_dim) for review in combined_text])\n",
    "    return unweighted_vectors\n",
    "\n",
    "# Compute TF-IDF weighted embeddings for combined title and review\n",
    "def compute_tfidf_weighted_embeddings_for_combined(df, vocab_dict, embedding_index, embedding_dim):\n",
    "    combined_text = combine_title_and_review(df)\n",
    "    tfidf_vectorizer = TfidfVectorizer(vocabulary=vocab_dict)\n",
    "    tfidf_matrix = tfidf_vectorizer.fit_transform(combined_text)  # This is not needed explicitly\n",
    "    idf_values = dict(zip(tfidf_vectorizer.get_feature_names_out(), tfidf_vectorizer.idf_))\n",
    "\n",
    "    tfidf_weighted_vectors = np.array([\n",
    "        get_tfidf_weighted_embedding(review, vocab_dict, idf_values, embedding_index, embedding_dim) \n",
    "        for review in combined_text\n",
    "    ])\n",
    "\n",
    "    return tfidf_weighted_vectors"
   ]
  },
  {
   "cell_type": "code",
   "execution_count": 50,
   "metadata": {},
   "outputs": [
    {
     "name": "stdout",
     "output_type": "stream",
     "text": [
      "Count Vectors (Combined) Accuracy (5-fold): 0.8465\n",
      "Fold Accuracies:  [0.84363082 0.84235952 0.84969481 0.84486267 0.8517294 ]\n"
     ]
    }
   ],
   "source": [
    "# Count Vectors for Combined Cross-Validation\n",
    "count_vectors_matrix_combined = generate_count_vectors_for_combined(data, vocab_dict)\n",
    "count_scores_combined = cross_validate_model_with_smote(count_vectors_matrix_combined, y)\n",
    "print(f\"Count Vectors (Combined) Accuracy (5-fold): {np.mean(count_scores_combined):.4f}\")\n",
    "print(\"Fold Accuracies: \", count_scores_combined)"
   ]
  },
  {
   "cell_type": "markdown",
   "metadata": {},
   "source": [
    "Fold accuracies show very little variance, with all values close to the mean, ranging from 84.24% to 85.17%. This consistency across different data folds suggests a high degree of model stability and generalization."
   ]
  },
  {
   "cell_type": "code",
   "execution_count": 51,
   "metadata": {},
   "outputs": [
    {
     "name": "stdout",
     "output_type": "stream",
     "text": [
      "Unweighted Embeddings (Combined) Accuracy (5-fold): 0.8300\n",
      "Fold Accuracies:  [0.83549453 0.82252733 0.83163784 0.83392675 0.82629705]\n"
     ]
    }
   ],
   "source": [
    "# Unweighted Embeddings for Combined Cross-Validation\n",
    "unweighted_vectors_combined = compute_unweighted_embeddings_for_combined(data, embedding_index, embedding_dim)\n",
    "unweighted_scores_combined = cross_validate_model_with_smote(unweighted_vectors_combined, y)\n",
    "print(f\"Unweighted Embeddings (Combined) Accuracy (5-fold): {np.mean(unweighted_scores_combined):.4f}\")\n",
    "print(\"Fold Accuracies: \", unweighted_scores_combined)"
   ]
  },
  {
   "cell_type": "markdown",
   "metadata": {},
   "source": [
    "Fold accuracies show some minor fluctuation, with a range from 82.25% to 83.55%, indicating that the model is relatively consistent but may have slightly less stability compared to the count vectors."
   ]
  },
  {
   "cell_type": "code",
   "execution_count": 52,
   "metadata": {},
   "outputs": [
    {
     "name": "stdout",
     "output_type": "stream",
     "text": [
      "TF-IDF Weighted Embeddings (Combined) Accuracy (5-fold): 0.7915\n",
      "Fold Accuracies:  [0.78769387 0.7943046  0.79577823 0.79069176 0.78916582]\n"
     ]
    }
   ],
   "source": [
    "# TF-IDF Weighted Embeddings for Combined Cross-Validation\n",
    "tfidf_weighted_vectors_combined = compute_tfidf_weighted_embeddings_for_combined(data, vocab_dict, embedding_index, embedding_dim)\n",
    "tfidf_scores_combined = cross_validate_model_with_smote(tfidf_weighted_vectors_combined, y)\n",
    "print(f\"TF-IDF Weighted Embeddings (Combined) Accuracy (5-fold): {np.mean(tfidf_scores_combined):.4f}\")\n",
    "print(\"Fold Accuracies: \", tfidf_scores_combined)"
   ]
  },
  {
   "cell_type": "markdown",
   "metadata": {},
   "source": [
    "Fold accuracies show minimal variance, with scores closely clustered around the mean. This stability indicates that the model generalizes well across different subsets, but the overall performance is weaker compared to count vectors and unweighted embeddings."
   ]
  },
  {
   "cell_type": "markdown",
   "metadata": {},
   "source": [
    "### Comparison"
   ]
  },
  {
   "cell_type": "markdown",
   "metadata": {},
   "source": [
    "In this section I will plot the result data after experiment in 3 cases:\n",
    "- Only title of the review \n",
    "- Only description/text of the review \n",
    "- Combination of the text and title of the review\n",
    "\n",
    "In order to have a better visualization to compare"
   ]
  },
  {
   "cell_type": "code",
   "execution_count": 53,
   "metadata": {},
   "outputs": [],
   "source": [
    "import matplotlib.pyplot as plt\n",
    "import numpy as np"
   ]
  },
  {
   "cell_type": "code",
   "execution_count": 54,
   "metadata": {},
   "outputs": [],
   "source": [
    "# Mean accuracies for each case\n",
    "mean_unweighted = [np.mean(unweighted_scores), np.mean(unweighted_scores_title), np.mean(unweighted_scores_combined)]\n",
    "mean_tfidf = [np.mean(tfidf_scores), np.mean(tfidf_scores_title), np.mean(tfidf_scores_combined)]\n",
    "mean_count = [np.mean(count_scores), np.mean(count_scores_title), np.mean(count_scores_combined)]"
   ]
  },
  {
   "cell_type": "code",
   "execution_count": 57,
   "metadata": {},
   "outputs": [
    {
     "data": {
      "image/png": "[encoded data removed]",
      "text/plain": [
       "<Figure size 1000x600 with 1 Axes>"
      ]
     },
     "metadata": {},
     "output_type": "display_data"
    }
   ],
   "source": [
    "# Labels for the x-axis\n",
    "labels = ['Review Text', 'Review Title', 'Combined']\n",
    "\n",
    "# Plot the accuracy comparison\n",
    "plt.figure(figsize=(10, 6))\n",
    "\n",
    "# Bar width\n",
    "bar_width = 0.25\n",
    "\n",
    "# Set the positions of the bars on the x-axis\n",
    "index = np.arange(len(labels))\n",
    "\n",
    "# Plotting the bars\n",
    "plt.bar(index, mean_count, bar_width, label='Count Vectors', color='skyblue')\n",
    "plt.bar(index + bar_width, mean_unweighted, bar_width, label='Unweighted Embeddings', color='salmon')\n",
    "plt.bar(index + 2 * bar_width, mean_tfidf, bar_width, label='TF-IDF Weighted Embeddings', color='lightgreen')\n",
    "\n",
    "# Adding labels and title\n",
    "plt.xlabel('Data', fontsize=14)\n",
    "plt.ylabel('Accuracy', fontsize=14)\n",
    "plt.title('Accuracy Comparison Across Different Information and Embedding Methods', fontsize=16)\n",
    "plt.xticks(index + bar_width, labels)\n",
    "\n",
    "# Display the legend\n",
    "plt.legend()\n",
    "\n",
    "# Show the plot\n",
    "plt.tight_layout()\n",
    "plt.show()"
   ]
  },
  {
   "cell_type": "markdown",
   "metadata": {},
   "source": [
    "The chart clearly shows that combining the review text with the title significantly improves the model's accuracy. When using only the review title, the accuracy is lower compared to other cases. However, the combination of both text and title provides a noticeable improvement over using just the title, and a slight improvement compared to using only the review text.\n",
    "\n",
    "Best Performances: The combination of title and text produces the highest accuracy across all models. Count vectors are the best overall method, followed by unweighted embeddings, while TF-IDF weighted embeddings lag behind. Using Only Title: Results in significantly lower accuracy, as titles alone provide too little information. Even the best-performing model (TF-IDF weighted embeddings) achieves only 74.25% accuracy, showing that titles alone are insufficient for reliable predictions. TF-IDF weighted embeddings improve compared to using the text alone (79.15% vs. 77.65%), but still fall short of the other methods. The improvement indicates that TF-IDF is more effective when additional data (like the title) is available, but it still struggles to outperform count vectors and unweighted embeddings. Combining both title and text consistently improves model performance across all methods, making it clear that both components offer complementary information."
   ]
  },
  {
   "cell_type": "markdown",
   "metadata": {},
   "source": [
    "## Summary\n",
    "Give a short summary and anything you would like to talk about the assessment tasks here."
   ]
  },
  {
   "cell_type": "markdown",
   "metadata": {},
   "source": [
    "In the implementation of Task 2, I developed a bag-of-words model to generate a count vector from the `Review Text` descriptions. Additionally, I computed both unweighted and TF-IDF weighted embeddings. For the vector representations, I used GloVe as the embedding language model, as specified above.\n",
    "\n",
    "In Task 3, I performed a 5-fold cross-validation on various feature representations of documents based on clothing reviews. The same language models used in Task 2 were applied here as well. Finally, I visualized the results to show how the model's performance varied across different scenarios."
   ]
  },
  {
   "cell_type": "markdown",
   "metadata": {},
   "source": [
    "## Couple of notes for all code blocks in this notebook\n",
    "- please provide proper comment on your code\n",
    "- Please re-start and run all cells to make sure codes are runable and include your output in the submission.   \n",
    "<span style=\"color: red\"> This markdown block can be removed once the task is completed. </span>"
   ]
  }
 ],
 "metadata": {
  "kernelspec": {
   "display_name": "Python 3 (ipykernel)",
   "language": "python",
   "name": "python3"
  },
  "language_info": {
   "codemirror_mode": {
    "name": "ipython",
    "version": 3
   },
   "file_extension": ".py",
   "mimetype": "text/x-python",
   "name": "python",
   "nbconvert_exporter": "python",
   "pygments_lexer": "ipython3",
   "version": "3.9.19"
  }
 },
 "nbformat": 4,
 "nbformat_minor": 4
}
